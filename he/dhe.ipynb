{
 "cells": [
  {
   "cell_type": "markdown",
   "metadata": {},
   "source": [
    "# Simplified DGHV FHE Scheme over the Integers"
   ]
  },
  {
   "cell_type": "markdown",
   "metadata": {},
   "source": [
    "## Input"
   ]
  },
  {
   "cell_type": "code",
   "execution_count": 58,
   "metadata": {},
   "outputs": [],
   "source": [
    "alice_input = 0\n",
    "bob_input = 0"
   ]
  },
  {
   "cell_type": "markdown",
   "metadata": {},
   "source": [
    "## Blood type compatibility function"
   ]
  },
  {
   "cell_type": "code",
   "execution_count": 59,
   "metadata": {},
   "outputs": [],
   "source": [
    "# Compute blood type compatibility from logical operations\n",
    "\"\"\"\n",
    " Encoding    +/-   B     A\n",
    " ------------------------------\n",
    " Recipient = x2 || x1 || x0\n",
    " Donor     = y2 || y1 || y0\n",
    "\"\"\"\n",
    "def bloodtype_compatibility(x, y):\n",
    "    x0, x1, x2 = Integer(x).digits(base=2, padto=3)\n",
    "    y0, y1, y2 = Integer(y).digits(base=2, padto=3)\n",
    "    return (1 ^^ (y0 & (1 ^^ x0))) & (1 ^^ (y1 & (1 ^^ x1))) & (1 ^^ (y2 & (1 ^^ x2)))"
   ]
  },
  {
   "cell_type": "markdown",
   "metadata": {},
   "source": [
    "## DGHV Scheme"
   ]
  },
  {
   "cell_type": "code",
   "execution_count": 60,
   "metadata": {},
   "outputs": [],
   "source": [
    "# Compute y_i = p*q_i + r_i for 0<=i<=n\n",
    "def Gen(p_bit, q_bit, r_bit, n):\n",
    "    p = ZZ.random_element(2^(p_bit-1),2^p_bit)\n",
    "    while Mod(p, 2) == 0:\n",
    "        p = ZZ.random_element(2^(p_bit-1),2^p_bit)\n",
    "        \n",
    "    pk = []\n",
    "    for i in range(n):\n",
    "        q = ZZ.random_element(2^(q_bit-1),2^q_bit)\n",
    "        r = ZZ.random_element(2^(r_bit-1),2^r_bit)    \n",
    "        pk.append(p*q + 2*r)\n",
    "    \n",
    "    return (p, pk)\n",
    "\n",
    "def Enc(m, pk):\n",
    "    c = m\n",
    "    SS = Subsets(range(len(pk)))\n",
    "    while(1):\n",
    "        S = SS.random_element()\n",
    "        if len(S) != 0:\n",
    "            break\n",
    "    for i in S:\n",
    "        c += pk[i]\n",
    "        \n",
    "    return c\n",
    "\n",
    "def Dec(c, sk):\n",
    "    return Mod(Mod(c, sk), 2)"
   ]
  },
  {
   "cell_type": "markdown",
   "metadata": {},
   "source": [
    "## 2PC based on FHE"
   ]
  },
  {
   "cell_type": "code",
   "execution_count": 61,
   "metadata": {},
   "outputs": [],
   "source": [
    "class Alice:\n",
    "    def __init__(self, p_bit, q_bit, r_bit, n):\n",
    "        self.sk, self.pk = Gen(p_bit, q_bit, r_bit, n)\n",
    "    \n",
    "    def Choose(self, xint):\n",
    "        # Process the input value\n",
    "        self.x = Integer(xint).digits(base=2, padto=3)\n",
    "        c = []\n",
    "        for i in range(3):\n",
    "            c.append(Enc(self.x[i], self.pk))\n",
    "        \n",
    "        return (c, self.pk)\n",
    "    \n",
    "    def Retrieve(self, c):\n",
    "        return Dec(c, self.sk)\n",
    "        \n",
    "class Bob:\n",
    "    def __init__(self):\n",
    "        pass\n",
    "    \n",
    "    def Transfer(self, yint, c_x, pk):\n",
    "        # Process the input value\n",
    "        y = Integer(yint).digits(base=2, padto=3)\n",
    "        c_y = []\n",
    "        c1 = Enc(1, pk)\n",
    "        for i in range(3):\n",
    "            c_y.append(Enc(y[i], pk))\n",
    "        \n",
    "        return ((c1 + (c_y[0]*(c1 + c_x[0]))) * (c1 + (c_y[1]*(c1 + c_x[1]))) * (c1 + (c_y[2]*(c1 + c_x[2]))))"
   ]
  },
  {
   "cell_type": "markdown",
   "metadata": {},
   "source": [
    "## Main"
   ]
  },
  {
   "cell_type": "code",
   "execution_count": 62,
   "metadata": {},
   "outputs": [
    {
     "name": "stdout",
     "output_type": "stream",
     "text": [
      "Securely computed f(0,0)=1\n"
     ]
    }
   ],
   "source": [
    "# Each encryption introduces approximately O(|r|+log(n))-bit of noise.\n",
    "# This means that the noise after computing the circuit of multiplication\n",
    "# depth d will be around O((|r|+log(n))*2^d)-bit.\n",
    "# The parameters below are set such that the noise for d=3 is still sufficiently\n",
    "# smaller than |p|.\n",
    "p_bit = 256\n",
    "q_bit = 1000\n",
    "r_bit = 10\n",
    "n = 128\n",
    "\n",
    "A = Alice(p_bit, q_bit, r_bit, n)\n",
    "B = Bob()\n",
    "c, pk = A.Choose(alice_input)\n",
    "cc = B.Transfer(bob_input, c, pk)\n",
    "out = A.Retrieve(cc)\n",
    "print \"Securely computed f({0},{1})={2}\".format(alice_input, bob_input, out)"
   ]
  },
  {
   "cell_type": "markdown",
   "metadata": {},
   "source": [
    "## Test"
   ]
  },
  {
   "cell_type": "code",
   "execution_count": 63,
   "metadata": {},
   "outputs": [
    {
     "name": "stdout",
     "output_type": "stream",
     "text": [
      "Testing correctness..\n",
      "0 errors occurred.\n"
     ]
    }
   ],
   "source": [
    "p_bit = 256\n",
    "q_bit = 1000\n",
    "r_bit = 10\n",
    "n = 128\n",
    "\n",
    "e_ctr = 0\n",
    "\n",
    "print \"Testing correctness..\"\n",
    "for x in range(8):\n",
    "    for y in range(8):\n",
    "        A = Alice(p_bit, q_bit, r_bit, n)\n",
    "        B = Bob()\n",
    "        c, pk = A.Choose(x)\n",
    "        cc = B.Transfer(y, c, pk)\n",
    "        out = A.Retrieve(cc)\n",
    "        #print \"Securely computed f({0},{1})={2}\".format(x, y, out)\n",
    "        if out != bloodtype_compatibility(x, y):\n",
    "            e_ctr += 1\n",
    "\n",
    "print \"{} errors occurred.\".format(e_ctr)"
   ]
  }
 ],
 "metadata": {
  "kernelspec": {
   "display_name": "SageMath 8.1",
   "language": "",
   "name": "sagemath"
  },
  "language_info": {
   "codemirror_mode": {
    "name": "ipython",
    "version": 2
   },
   "file_extension": ".py",
   "mimetype": "text/x-python",
   "name": "python",
   "nbconvert_exporter": "python",
   "pygments_lexer": "ipython2",
   "version": "2.7.15+"
  }
 },
 "nbformat": 4,
 "nbformat_minor": 2
}
