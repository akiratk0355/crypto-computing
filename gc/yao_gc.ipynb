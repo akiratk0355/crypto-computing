{
 "cells": [
  {
   "cell_type": "markdown",
   "metadata": {},
   "source": [
    "# Passively Secure Yao's 2PC"
   ]
  },
  {
   "cell_type": "markdown",
   "metadata": {},
   "source": [
    "## Specify input here"
   ]
  },
  {
   "cell_type": "code",
   "execution_count": 20,
   "metadata": {},
   "outputs": [],
   "source": [
    "alice_input = 0\n",
    "bob_input = 0"
   ]
  },
  {
   "cell_type": "markdown",
   "metadata": {},
   "source": [
    "## Import"
   ]
  },
  {
   "cell_type": "code",
   "execution_count": 21,
   "metadata": {},
   "outputs": [],
   "source": [
    "import hashlib\n",
    "import copy"
   ]
  },
  {
   "cell_type": "markdown",
   "metadata": {},
   "source": [
    "## Blood type compatibility function"
   ]
  },
  {
   "cell_type": "code",
   "execution_count": 22,
   "metadata": {},
   "outputs": [],
   "source": [
    "# Compute blood type compatibility from logical operations\n",
    "\"\"\"\n",
    " Encoding    +/-   B     A\n",
    " ------------------------------\n",
    " Recipient = x2 || x1 || x0\n",
    " Donor     = y2 || y1 || y0\n",
    "\"\"\"\n",
    "def bloodtype_compatibility(x, y):\n",
    "    x0, x1, x2 = Integer(x).digits(base=2, padto=3)\n",
    "    y0, y1, y2 = Integer(y).digits(base=2, padto=3)\n",
    "    return (1 ^^ (y0 & (1 ^^ x0))) & (1 ^^ (y1 & (1 ^^ x1))) & (1 ^^ (y2 & (1 ^^ x2)))"
   ]
  },
  {
   "cell_type": "markdown",
   "metadata": {},
   "source": [
    "## Public parameters for El Gamal"
   ]
  },
  {
   "cell_type": "code",
   "execution_count": 23,
   "metadata": {},
   "outputs": [],
   "source": [
    "# We use ffdhe2048 group parameter, retrieved from RFC7919 [1].\n",
    "# The domain parameter (p, q, g) correspond to an approved safe-prime group [2].\n",
    "#      p = 2q + 1 and ord(g)=q\n",
    "#\n",
    "# [1] https://tools.ietf.org/html/rfc7919#appendix-A.1\n",
    "# [2] Section 5.6.1.1.1 https://nvlpubs.nist.gov/nistpubs/SpecialPublications/NIST.SP.800-56Ar3.pdf\n",
    "\n",
    "\n",
    "ST_p = \"\"\"\n",
    "    FFFFFFFF FFFFFFFF ADF85458 A2BB4A9A AFDC5620 273D3CF1\n",
    "    D8B9C583 CE2D3695 A9E13641 146433FB CC939DCE 249B3EF9\n",
    "    7D2FE363 630C75D8 F681B202 AEC4617A D3DF1ED5 D5FD6561\n",
    "    2433F51F 5F066ED0 85636555 3DED1AF3 B557135E 7F57C935\n",
    "    984F0C70 E0E68B77 E2A689DA F3EFE872 1DF158A1 36ADE735\n",
    "    30ACCA4F 483A797A BC0AB182 B324FB61 D108A94B B2C8E3FB\n",
    "    B96ADAB7 60D7F468 1D4F42A3 DE394DF4 AE56EDE7 6372BB19\n",
    "    0B07A7C8 EE0A6D70 9E02FCE1 CDF7E2EC C03404CD 28342F61\n",
    "    9172FE9C E98583FF 8E4F1232 EEF28183 C3FE3B1B 4C6FAD73\n",
    "    3BB5FCBC 2EC22005 C58EF183 7D1683B2 C6F34A26 C1B2EFFA\n",
    "    886B4238 61285C97 FFFFFFFF FFFFFFFF\"\"\"\n",
    "\n",
    "ST_q = \"\"\"\n",
    "    7FFFFFFF FFFFFFFF D6FC2A2C 515DA54D 57EE2B10 139E9E78\n",
    "    EC5CE2C1 E7169B4A D4F09B20 8A3219FD E649CEE7 124D9F7C\n",
    "    BE97F1B1 B1863AEC 7B40D901 576230BD 69EF8F6A EAFEB2B0\n",
    "    9219FA8F AF833768 42B1B2AA 9EF68D79 DAAB89AF 3FABE49A\n",
    "    CC278638 707345BB F15344ED 79F7F439 0EF8AC50 9B56F39A\n",
    "    98566527 A41D3CBD 5E0558C1 59927DB0 E88454A5 D96471FD\n",
    "    DCB56D5B B06BFA34 0EA7A151 EF1CA6FA 572B76F3 B1B95D8C\n",
    "    8583D3E4 770536B8 4F017E70 E6FBF176 601A0266 941A17B0\n",
    "    C8B97F4E 74C2C1FF C7278919 777940C1 E1FF1D8D A637D6B9\n",
    "    9DDAFE5E 17611002 E2C778C1 BE8B41D9 6379A513 60D977FD\n",
    "    4435A11C 30942E4B FFFFFFFF FFFFFFFF\"\"\"\n",
    "\n",
    "ST_g = \"02\""
   ]
  },
  {
   "cell_type": "code",
   "execution_count": 34,
   "metadata": {},
   "outputs": [],
   "source": [
    "class PublicParameter:\n",
    "    def __init__(self, p, q, g):\n",
    "        self.Zp= Zmod(p)\n",
    "        self.Zq= Zmod(q)\n",
    "        self.p = p\n",
    "        self.q = q\n",
    "        if mod(p,q) != 1:\n",
    "            print \"Error\"\n",
    "        self.r = (p-1)/q\n",
    "        self.g = self.Zp(g)\n",
    "    \n",
    "    # This also works as OGen\n",
    "    def sample_from_G_mul(self):\n",
    "        while True:\n",
    "            s = self.Zp.random_element()\n",
    "            #if gcd(Integer(s),self.p-1) == 1:\n",
    "            return s^self.r\n",
    "    \n",
    "    def sample_from_Zq(self):\n",
    "        return self.Zq.random_element()\n",
    "    \n",
    "    # Utility function that maps hex string to a group element in G = <g>.\n",
    "    # As p = 2q+1, the order q subgroup of Z_p^* consists of \n",
    "    # non-zero quadratic residues modulo p, and hence the following method works.\n",
    "    def encode_msg(self, m):\n",
    "        return self.Zp(Integer(m)^self.r)\n",
    "    \n",
    "    def decode_msg(self, m):\n",
    "        #return Integer(sqrt(self.Zp(m))) # This was slow..\n",
    "        cand1 = self.Zp(m)^((self.p+1)//4) # This is much faster for safe primes\n",
    "        cand2= -cand1\n",
    "        return min(Integer(cand1), Integer(cand2))"
   ]
  },
  {
   "cell_type": "markdown",
   "metadata": {},
   "source": [
    "## ElGamal PKE"
   ]
  },
  {
   "cell_type": "code",
   "execution_count": 35,
   "metadata": {},
   "outputs": [],
   "source": [
    "def Gen(pp):\n",
    "    sk = pp.sample_from_Zq()\n",
    "    pk = pp.g^sk\n",
    "    return (sk,pk)\n",
    "\n",
    "def Enc(pk,m,pp):\n",
    "    k = pp.sample_from_Zq()\n",
    "    c0 = pp.g^k\n",
    "    c1 = m*(pk^k)\n",
    "    return (c0,c1)\n",
    "\n",
    "def Dec(c0,c1,sk,pp):\n",
    "    return c1/(c0^sk)"
   ]
  },
  {
   "cell_type": "markdown",
   "metadata": {},
   "source": [
    "## PRF"
   ]
  },
  {
   "cell_type": "code",
   "execution_count": 36,
   "metadata": {},
   "outputs": [],
   "source": [
    "# return value is Integer\n",
    "def PRF(Kl, Kr, i):\n",
    "    return Integer('0x'+hashlib.sha256(Kl+Kr+str(i)).hexdigest())"
   ]
  },
  {
   "cell_type": "markdown",
   "metadata": {},
   "source": [
    "## Constants"
   ]
  },
  {
   "cell_type": "code",
   "execution_count": 37,
   "metadata": {},
   "outputs": [],
   "source": [
    "NBITS_K = 128\n",
    "NBYTES_K = NBITS_K//8\n",
    "NHEX_K = NBITS_K//4\n",
    "K00 = '0'^(NBYTES_K*2)\n",
    "INT_K00 = Integer(2^NBITS_K)\n",
    "ST_0x = '0x'\n",
    "T_IN = \"IN\";  T_AND = \"AND\"; T_XOR = \"XOR\"; T_NAND = \"NAND\""
   ]
  },
  {
   "cell_type": "markdown",
   "metadata": {},
   "source": [
    "## Circuit Garbling"
   ]
  },
  {
   "cell_type": "code",
   "execution_count": 38,
   "metadata": {},
   "outputs": [],
   "source": [
    "class Gate:\n",
    "    def __init__(self, id, type, id_l, id_r, is_out=False, is_Ain=False, is_Bin=False):\n",
    "        self.id = id\n",
    "        self.type = type\n",
    "        self.id_l = id_l\n",
    "        self.id_r = id_r        \n",
    "        self.is_out = is_out\n",
    "        self.is_Ain = is_Ain\n",
    "        self.is_Bin = is_Bin\n",
    "        \n",
    "        self.keys = None\n",
    "        self.table = []\n",
    "        self.is_garbled = False\n",
    "\n",
    "class Circuit(dict):\n",
    "    def __init__(self):\n",
    "        self = dict()\n",
    "    \n",
    "    def add_gate(self, id, type, id_l, id_r, **kwargs):\n",
    "        self[id] = Gate(id, type, id_l, id_r, **kwargs)\n",
    "    \n",
    "    def garble(self):\n",
    "        for gid, g in sorted(self.iteritems()):\n",
    "            #print \"garbling gate {0}, type={1}\".format(gid, g.type)\n",
    "            # Key generation\n",
    "            Ko0 = os.urandom(NBYTES_K).encode('hex')\n",
    "            Ko1 = os.urandom(NBYTES_K).encode('hex')\n",
    "            if g.type != T_IN:\n",
    "                if not self[g.id_l].is_garbled:\n",
    "                    raise Exception(\"Gate {} is not garbled yet\".format(g.id_l))\n",
    "                if not self[g.id_r].is_garbled:\n",
    "                    raise Exception(\"Gate {} is not garbled yet\".format(g.id_r))\n",
    "                Kl0 = self[g.id_l].keys[0]\n",
    "                Kl1 = self[g.id_l].keys[1]\n",
    "                Kr0 = self[g.id_r].keys[0]\n",
    "                Kr1 = self[g.id_r].keys[1]\n",
    "\n",
    "            # Define a garbled table\n",
    "            if g.type == T_NAND:\n",
    "                C00 = PRF(Kl0, Kr0, gid) ^^ Integer(ST_0x+Ko1+K00)\n",
    "                C01 = PRF(Kl0, Kr1, gid) ^^ Integer(ST_0x+Ko1+K00)\n",
    "                C10 = PRF(Kl1, Kr0, gid) ^^ Integer(ST_0x+Ko1+K00)\n",
    "                C11 = PRF(Kl1, Kr1, gid) ^^ Integer(ST_0x+Ko0+K00)\n",
    "            elif g.type == T_AND:\n",
    "                C00 = PRF(Kl0, Kr0, gid) ^^ Integer(ST_0x+Ko0+K00)\n",
    "                C01 = PRF(Kl0, Kr1, gid) ^^ Integer(ST_0x+Ko0+K00)\n",
    "                C10 = PRF(Kl1, Kr0, gid) ^^ Integer(ST_0x+Ko0+K00)\n",
    "                C11 = PRF(Kl1, Kr1, gid) ^^ Integer(ST_0x+Ko1+K00)\n",
    "            elif g.type == T_XOR:\n",
    "                C00 = PRF(Kl0, Kr0, gid) ^^ Integer(ST_0x+Ko0+K00)\n",
    "                C01 = PRF(Kl0, Kr1, gid) ^^ Integer(ST_0x+Ko1+K00)\n",
    "                C10 = PRF(Kl1, Kr0, gid) ^^ Integer(ST_0x+Ko1+K00)\n",
    "                C11 = PRF(Kl1, Kr1, gid) ^^ Integer(ST_0x+Ko0+K00)\n",
    "            elif g.type == T_IN: # dummy\n",
    "                C00 = None; C01 = None; C10 = None; C11 = None\n",
    "            else:\n",
    "                raise Exception(\"Unsupported gate type {}\".format(g.type))\n",
    "\n",
    "            g.table = Permutations([C00, C01, C10, C11]).random_element()\n",
    "            g.keys = [Ko0, Ko1]\n",
    "            g.is_garbled = True\n",
    "        \n",
    "    def encode(self, input_B, keylist_A, pp):\n",
    "        # Process input\n",
    "        i = 0 \n",
    "        j = 0\n",
    "        for gid, g in sorted(self.iteritems()): # assuming the least significant input bit comes first\n",
    "            if g.is_Bin:\n",
    "                g.keys[0] = g.keys[input_B[i]]\n",
    "                g.keys[1] = None\n",
    "                i += 1\n",
    "            elif g.is_Ain:\n",
    "                g.keys[0] = Enc(keylist_A[j][0], pp.encode_msg(ST_0x+g.keys[0]), pp)\n",
    "                g.keys[1] = Enc(keylist_A[j][1], pp.encode_msg(ST_0x+g.keys[1]), pp)\n",
    "                j += 1\n",
    "            elif g.is_out:\n",
    "                pass\n",
    "            else:\n",
    "                g.keys = [None, None]\n",
    "        \n",
    "        if len(keylist_A) != j:\n",
    "            raise Exception(\"The number of OTs doesn't match input wires\")\n",
    "    \n",
    "    def decode(self, Z, gid):\n",
    "        if Integer(ST_0x+self[gid].keys[0]) == Z:\n",
    "            return 0\n",
    "        elif Integer(ST_0x+self[gid].keys[1]) == Z:\n",
    "            return 1\n",
    "        else:\n",
    "            raise Exception(\"Decoding failed!\")        \n",
    "    \n",
    "    def evaluate(self):\n",
    "        for gid, g in sorted(self.iteritems()):\n",
    "            #print \"Evaluating the gate {}\".format(gid)\n",
    "            if g.type != T_IN:\n",
    "                H = PRF(self[g.id_l].keys[0], self[g.id_r].keys[0], gid)\n",
    "                for C in g.table:\n",
    "                    K_cand = C^^H\n",
    "                    if Mod(K_cand, INT_K00) == 0:\n",
    "                        if g.is_out:\n",
    "                            return self.decode(K_cand//INT_K00, gid)\n",
    "                        else:\n",
    "                            g.keys[0] = '{0:0{1}x}'.format(K_cand//INT_K00, NHEX_K) \n",
    "                            break"
   ]
  },
  {
   "cell_type": "markdown",
   "metadata": {},
   "source": [
    "## Yao's 2PC"
   ]
  },
  {
   "cell_type": "code",
   "execution_count": 39,
   "metadata": {},
   "outputs": [],
   "source": [
    "class Alice:\n",
    "    def __init__(self, pp):\n",
    "        self.pp = pp\n",
    "        self.x = []\n",
    "        self.sklist = []\n",
    "    \n",
    "    def Choose(self, xint):\n",
    "        # Process the input value\n",
    "        pksent = [[0,0],[0,0],[0,0]]\n",
    "        self.x = Integer(xint).digits(base=2, padto=3)\n",
    "        \n",
    "        # Key generation\n",
    "        for i in range(3):\n",
    "            sk, pk = Gen(self.pp)\n",
    "            self.sklist.append(sk)\n",
    "            # precompute xor with her own input\n",
    "            pksent[i][int(self.x[i])^^1] = pk\n",
    "            pksent[i][int(self.x[i])] = self.pp.sample_from_G_mul()\n",
    "        \n",
    "        return pksent\n",
    "    \n",
    "    def Retrieve(self, gc):\n",
    "        i = 0\n",
    "        # Retrieving input keys\n",
    "        for gid, g in sorted(gc.iteritems()):\n",
    "            if g.is_Ain:\n",
    "                c0, c1 = g.keys[self.x[i]^^1]\n",
    "                K = self.pp.decode_msg(Dec(c0, c1, self.sklist[i], self.pp))\n",
    "                g.keys[0] = '{0:0{1}x}'.format(K, NHEX_K)\n",
    "                g.keys[1] = None\n",
    "                i += 1\n",
    "\n",
    "        return gc.evaluate()\n",
    "        \n",
    "class Bob:\n",
    "    def __init__(self, pp, c):\n",
    "        self.pp = pp\n",
    "        self.circuit = c\n",
    "        self.circuit.garble()\n",
    "        \n",
    "    def Transfer(self, yint, pks):\n",
    "        # Process the input value\n",
    "        y = Integer(yint).digits(base=2, padto=3)\n",
    "        self.circuit.encode(y, pks, self.pp)\n",
    "        return self.circuit       "
   ]
  },
  {
   "cell_type": "markdown",
   "metadata": {},
   "source": [
    "## Main"
   ]
  },
  {
   "cell_type": "code",
   "execution_count": 40,
   "metadata": {},
   "outputs": [
    {
     "name": "stdout",
     "output_type": "stream",
     "text": [
      "Securely computed f(0,0)=1\n"
     ]
    }
   ],
   "source": [
    "pp = PublicParameter(Integer(ST_0x+ST_p),Integer(ST_0x+ST_q),Integer(ST_0x+ST_g))\n",
    "\n",
    "C = Circuit()\n",
    "C.add_gate(1, T_IN, 0, 0, is_Ain=True)\n",
    "C.add_gate(2, T_IN, 0, 0, is_Ain=True)\n",
    "C.add_gate(3, T_IN, 0, 0, is_Ain=True)\n",
    "C.add_gate(4, T_IN, 0, 0, is_Bin=True)\n",
    "C.add_gate(5, T_IN, 0, 0, is_Bin=True)\n",
    "C.add_gate(6, T_IN, 0, 0, is_Bin=True)\n",
    "C.add_gate(7, T_NAND, 4, 1)\n",
    "C.add_gate(8, T_NAND, 5, 2)\n",
    "C.add_gate(9, T_NAND, 6, 3)\n",
    "C.add_gate(10, T_AND, 7, 8)\n",
    "C.add_gate(11, T_AND, 10, 9, is_out=True)\n",
    "\n",
    "A = Alice(pp)\n",
    "B = Bob(pp,C)\n",
    "pks = A.Choose(alice_input)\n",
    "gc = B.Transfer(bob_input, pks)\n",
    "out = A.Retrieve(gc)\n",
    "print \"Securely computed f({0},{1})={2}\".format(alice_input, bob_input, out)"
   ]
  },
  {
   "cell_type": "markdown",
   "metadata": {},
   "source": [
    "## Tests"
   ]
  },
  {
   "cell_type": "code",
   "execution_count": 42,
   "metadata": {
    "scrolled": true
   },
   "outputs": [
    {
     "name": "stdout",
     "output_type": "stream",
     "text": [
      "ElGamal is correct.\n",
      "Testing Yao's 2PC correctness..\n",
      "0 errors occurred.\n"
     ]
    }
   ],
   "source": [
    "# Test ElGamal\n",
    "m = pp.sample_from_G_mul()\n",
    "sk, pk = Gen(pp)\n",
    "c1, c2= Enc(pk,m,pp)\n",
    "if Dec(c1,c2,sk,pp) == m:\n",
    "    print \"ElGamal is correct.\"\n",
    "else:\n",
    "    print \"ElGamal failed!\"\n",
    "\n",
    "# Correctness check\n",
    "e_ctr = 0\n",
    "print \"Testing Yao's 2PC correctness..\"\n",
    "for x in range(8):\n",
    "    for y in range(8):\n",
    "        C = Circuit()\n",
    "        C.add_gate(1, T_IN, 0, 0, is_Ain=True)\n",
    "        C.add_gate(2, T_IN, 0, 0, is_Ain=True)\n",
    "        C.add_gate(3, T_IN, 0, 0, is_Ain=True)\n",
    "        C.add_gate(4, T_IN, 0, 0, is_Bin=True)\n",
    "        C.add_gate(5, T_IN, 0, 0, is_Bin=True)\n",
    "        C.add_gate(6, T_IN, 0, 0, is_Bin=True)\n",
    "        C.add_gate(7, T_NAND, 4, 1)\n",
    "        C.add_gate(8, T_NAND, 5, 2)\n",
    "        C.add_gate(9, T_NAND, 6, 3)\n",
    "        C.add_gate(10, T_AND, 7, 8)\n",
    "        C.add_gate(11, T_AND, 10, 9, is_out=True)\n",
    "\n",
    "        A = Alice(pp)\n",
    "        B = Bob(pp,C)\n",
    "        pks = A.Choose(x)\n",
    "        gc = B.Transfer(y, pks)\n",
    "        out = A.Retrieve(gc)\n",
    "        #print \"Securely computed f({0},{1})={2}\".format(x, y, out)\n",
    "        if out != bloodtype_compatibility(x, y):\n",
    "            e_ctr += 1\n",
    "\n",
    "print \"{} errors occurred.\".format(e_ctr)"
   ]
  },
  {
   "cell_type": "code",
   "execution_count": null,
   "metadata": {},
   "outputs": [],
   "source": []
  }
 ],
 "metadata": {
  "kernelspec": {
   "display_name": "SageMath 8.1",
   "language": "",
   "name": "sagemath"
  },
  "language_info": {
   "codemirror_mode": {
    "name": "ipython",
    "version": 2
   },
   "file_extension": ".py",
   "mimetype": "text/x-python",
   "name": "python",
   "nbconvert_exporter": "python",
   "pygments_lexer": "ipython2",
   "version": "2.7.15+"
  }
 },
 "nbformat": 4,
 "nbformat_minor": 1
}
