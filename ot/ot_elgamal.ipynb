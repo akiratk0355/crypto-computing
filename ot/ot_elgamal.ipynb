{
 "cells": [
  {
   "cell_type": "markdown",
   "metadata": {},
   "source": [
    "# Passively Secure OT from PKE with Oblivious Key Generation"
   ]
  },
  {
   "cell_type": "markdown",
   "metadata": {},
   "source": [
    "## Blood type compatibility function"
   ]
  },
  {
   "cell_type": "code",
   "execution_count": 300,
   "metadata": {},
   "outputs": [],
   "source": [
    "# Compute blood type compatibility from logical operations\n",
    "\"\"\"\n",
    " Encoding    +/-   B     A\n",
    " ------------------------------\n",
    " Recipeint = x2 || x1 || x0\n",
    " Donor     = y2 || y1 || y0\n",
    "\"\"\"\n",
    "def bloodtype_compatibility(x, y):\n",
    "    x0, x1, x2 = x.digits(base=2, padto=3)\n",
    "    y0, y1, y2 = y.digits(base=2, padto=3)\n",
    "    return (1 ^^ (y0 & (1 ^^ x0))) & (1 ^^ (y1 & (1 ^^ x1))) & (1 ^^ (y2 & (1 ^^ x2)))"
   ]
  },
  {
   "cell_type": "markdown",
   "metadata": {},
   "source": [
    "## Public parameters for El Gamal"
   ]
  },
  {
   "cell_type": "code",
   "execution_count": 301,
   "metadata": {},
   "outputs": [],
   "source": [
    "# We use ffdhe2048 group parameter, retrieved from RFC7919 [1].\n",
    "# The domain parameter (p, q, g) correspond to an approved safe-prime group [2].\n",
    "#      p = 2q + 1 and ord(g)=q\n",
    "#\n",
    "# [1] https://tools.ietf.org/html/rfc7919#appendix-A.1\n",
    "# [2] Section 5.6.1.1.1 https://nvlpubs.nist.gov/nistpubs/SpecialPublications/NIST.SP.800-56Ar3.pdf\n",
    "\n",
    "\n",
    "pstr = \"\"\"\n",
    "    FFFFFFFF FFFFFFFF ADF85458 A2BB4A9A AFDC5620 273D3CF1\n",
    "    D8B9C583 CE2D3695 A9E13641 146433FB CC939DCE 249B3EF9\n",
    "    7D2FE363 630C75D8 F681B202 AEC4617A D3DF1ED5 D5FD6561\n",
    "    2433F51F 5F066ED0 85636555 3DED1AF3 B557135E 7F57C935\n",
    "    984F0C70 E0E68B77 E2A689DA F3EFE872 1DF158A1 36ADE735\n",
    "    30ACCA4F 483A797A BC0AB182 B324FB61 D108A94B B2C8E3FB\n",
    "    B96ADAB7 60D7F468 1D4F42A3 DE394DF4 AE56EDE7 6372BB19\n",
    "    0B07A7C8 EE0A6D70 9E02FCE1 CDF7E2EC C03404CD 28342F61\n",
    "    9172FE9C E98583FF 8E4F1232 EEF28183 C3FE3B1B 4C6FAD73\n",
    "    3BB5FCBC 2EC22005 C58EF183 7D1683B2 C6F34A26 C1B2EFFA\n",
    "    886B4238 61285C97 FFFFFFFF FFFFFFFF\"\"\"\n",
    "\n",
    "qstr = \"\"\"\n",
    "    7FFFFFFF FFFFFFFF D6FC2A2C 515DA54D 57EE2B10 139E9E78\n",
    "    EC5CE2C1 E7169B4A D4F09B20 8A3219FD E649CEE7 124D9F7C\n",
    "    BE97F1B1 B1863AEC 7B40D901 576230BD 69EF8F6A EAFEB2B0\n",
    "    9219FA8F AF833768 42B1B2AA 9EF68D79 DAAB89AF 3FABE49A\n",
    "    CC278638 707345BB F15344ED 79F7F439 0EF8AC50 9B56F39A\n",
    "    98566527 A41D3CBD 5E0558C1 59927DB0 E88454A5 D96471FD\n",
    "    DCB56D5B B06BFA34 0EA7A151 EF1CA6FA 572B76F3 B1B95D8C\n",
    "    8583D3E4 770536B8 4F017E70 E6FBF176 601A0266 941A17B0\n",
    "    C8B97F4E 74C2C1FF C7278919 777940C1 E1FF1D8D A637D6B9\n",
    "    9DDAFE5E 17611002 E2C778C1 BE8B41D9 6379A513 60D977FD\n",
    "    4435A11C 30942E4B FFFFFFFF FFFFFFFF\"\"\"\n",
    "\n",
    "gstr = \"02\"\n",
    "\n",
    "# 2 encodes f(x,y)=0, and 4 encodes f(x,y)=1\n",
    "# Both elements are chosen appropriately so that they belong to an order q cyclic group <g>.\n",
    "msg_encoding = (2,4)"
   ]
  },
  {
   "cell_type": "code",
   "execution_count": 302,
   "metadata": {},
   "outputs": [],
   "source": [
    "class PublicParameter:\n",
    "    def __init__(self, p, q, g):\n",
    "        self.Zp= Zmod(p)\n",
    "        self.Zq= Zmod(q)\n",
    "        self.p = p\n",
    "        self.q = q\n",
    "        if mod(p,q) != 1:\n",
    "            print \"Error\"\n",
    "        self.r = (p-1)/q\n",
    "        self.g = self.Zp(g)\n",
    "    \n",
    "    # This also works as OGen\n",
    "    def sample_from_G_mul(self):\n",
    "        while True:\n",
    "            s = self.Zp.random_element()\n",
    "            if gcd(Integer(s),self.p-1) == 1:\n",
    "                return s^self.r\n",
    "    \n",
    "    def sample_from_Zq(self):\n",
    "        return self.Zq.random_element()\n",
    "        "
   ]
  },
  {
   "cell_type": "markdown",
   "metadata": {},
   "source": [
    "## ElGamal PKE"
   ]
  },
  {
   "cell_type": "code",
   "execution_count": 303,
   "metadata": {},
   "outputs": [],
   "source": [
    "def Gen(pp):\n",
    "    sk = pp.sample_from_Zq()\n",
    "    pk = pp.g^sk\n",
    "    return (sk,pk)\n",
    "\n",
    "def Enc(pk,m,pp):\n",
    "    k = pp.sample_from_Zq()\n",
    "    c0 = pp.g^k\n",
    "    c1 = m*(pk^k)\n",
    "    return (c0,c1)\n",
    "\n",
    "def Dec(c0,c1,sk,pp):\n",
    "    return c1/(c0^sk)"
   ]
  },
  {
   "cell_type": "code",
   "execution_count": 304,
   "metadata": {},
   "outputs": [],
   "source": [
    "class Alice:\n",
    "    def __init__(self,pp):\n",
    "        self.pp = pp\n",
    "        self.x = None\n",
    "        self.pk = None\n",
    "        self.sk = None\n",
    "    \n",
    "    def Choose(self, x):\n",
    "        pklist = [None]*8\n",
    "        self.x = x\n",
    "        self.sk, self.pk = Gen(pp)\n",
    "        \n",
    "        for i in range(8):\n",
    "            if i == x:\n",
    "                pklist[i] = self.pk\n",
    "            else:\n",
    "                pklist[i] = self.pp.sample_from_G_mul()\n",
    "        return pklist\n",
    "    \n",
    "    def Retrieve(self, clist):\n",
    "        c0, c1 = clist[self.x]\n",
    "        return Dec(c0, c1, self.sk, self.pp)\n",
    "\n",
    "class Bob:\n",
    "    def __init__(self,pp):\n",
    "        self.pp = pp\n",
    "    \n",
    "    def Transfer(self, y, pklist):\n",
    "        # compute outputs f(x,y)=z for all possible x\n",
    "        mlist = []\n",
    "        for x in range(8):\n",
    "            if bloodtype_compatibility(Integer(x),Integer(y)) == 0:\n",
    "                mlist.append(msg_encoding[0])\n",
    "            else:\n",
    "                mlist.append(msg_encoding[1])\n",
    "\n",
    "        clist = []\n",
    "        for i, pk in enumerate(pklist):\n",
    "            clist.append(Enc(pk, pp.Zp(mlist[i]), pp))\n",
    "        return clist\n",
    "        "
   ]
  },
  {
   "cell_type": "code",
   "execution_count": 307,
   "metadata": {},
   "outputs": [
    {
     "name": "stdout",
     "output_type": "stream",
     "text": [
      "ElGamal is correct.\n",
      "0 errors occurred.\n"
     ]
    }
   ],
   "source": [
    "pp = PublicParameter(Integer(\"0x\"+pstr),Integer(\"0x\"+qstr),Integer(\"0x\"+gstr))\n",
    "\n",
    "# Test ElGamal\n",
    "m = pp.sample_from_G_mul()\n",
    "sk, pk = Gen(pp)\n",
    "c1, c2= Enc(pk,m,pp)\n",
    "if Dec(c1,c2,sk,pp) == m:\n",
    "    print \"ElGamal is correct.\"\n",
    "\n",
    "# Correctness check\n",
    "e_ctr = 0\n",
    "for x in range(8):\n",
    "    for y in range(8):\n",
    "        A = Alice(pp)\n",
    "        B = Bob(pp)\n",
    "        aout = A.Choose(x)\n",
    "        bout = B.Transfer(y, aout)\n",
    "        out = A.Retrieve(bout)\n",
    "        if out != msg_encoding[bloodtype_compatibility(Integer(x),Integer(y))]:\n",
    "            e_ctr += 1\n",
    "print \"{} errors occurred.\".format(e_ctr)"
   ]
  },
  {
   "cell_type": "code",
   "execution_count": null,
   "metadata": {},
   "outputs": [],
   "source": []
  }
 ],
 "metadata": {
  "kernelspec": {
   "display_name": "SageMath 8.1",
   "language": "",
   "name": "sagemath"
  },
  "language_info": {
   "codemirror_mode": {
    "name": "ipython",
    "version": 2
   },
   "file_extension": ".py",
   "mimetype": "text/x-python",
   "name": "python",
   "nbconvert_exporter": "python",
   "pygments_lexer": "ipython2",
   "version": "2.7.15+"
  }
 },
 "nbformat": 4,
 "nbformat_minor": 2
}
